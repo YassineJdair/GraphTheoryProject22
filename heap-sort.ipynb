{
 "cells": [
  {
   "cell_type": "markdown",
   "id": "d86559c5",
   "metadata": {},
   "source": [
    "# Heapsort\n",
    "***"
   ]
  },
  {
   "cell_type": "markdown",
   "id": "fefd5473",
   "metadata": {},
   "source": [
    "<h2>What is HeapSort?</h2>\n",
    "    \n",
    "Heap sort is a comparison-based sorting technique based on Binary Heap data structure. It is similar to selection sort where we first find the minimum element and place the minimum element at the beginning. We repeat the same process for the remaining elements."
   ]
  },
  {
   "attachments": {
    "heap-property-example.png": {
     "image/png": "[encoded data removed]"
    }
   },
   "cell_type": "markdown",
   "id": "bb1219d1",
   "metadata": {},
   "source": [
    "### Here's an Example for you <img src=\"attachment:heap-property-example.png\" width=400 height=400 />"
   ]
  },
  {
   "cell_type": "code",
   "execution_count": 1,
   "id": "325788c9",
   "metadata": {},
   "outputs": [],
   "source": [
    "#lists in python can be created with sqaure bracket notation.\n",
    "L = [5, 2, 3, \"Heap Sort!\", None, True]"
   ]
  },
  {
   "cell_type": "code",
   "execution_count": 2,
   "id": "df1eb69b",
   "metadata": {},
   "outputs": [
    {
     "data": {
      "text/plain": [
       "True"
      ]
     },
     "execution_count": 2,
     "metadata": {},
     "output_type": "execute_result"
    }
   ],
   "source": [
    "#they are zero indexed\n",
    "L[5]"
   ]
  },
  {
   "cell_type": "code",
   "execution_count": 3,
   "id": "a92dec57",
   "metadata": {},
   "outputs": [
    {
     "data": {
      "text/plain": [
       "True"
      ]
     },
     "execution_count": 3,
     "metadata": {},
     "output_type": "execute_result"
    }
   ],
   "source": [
    "#Using negative indexes.\n",
    "L[-1]"
   ]
  },
  {
   "cell_type": "code",
   "execution_count": 4,
   "id": "876fc324",
   "metadata": {},
   "outputs": [
    {
     "data": {
      "text/plain": [
       "'Heap Sort!'"
      ]
     },
     "execution_count": 4,
     "metadata": {},
     "output_type": "execute_result"
    }
   ],
   "source": [
    "#Third last element\n",
    "L[-3]"
   ]
  },
  {
   "cell_type": "code",
   "execution_count": 5,
   "id": "8d74f037",
   "metadata": {},
   "outputs": [
    {
     "data": {
      "text/plain": [
       "[0,\n",
       " 4,\n",
       " 8,\n",
       " 12,\n",
       " 16,\n",
       " 20,\n",
       " 24,\n",
       " 28,\n",
       " 32,\n",
       " 36,\n",
       " 40,\n",
       " 44,\n",
       " 48,\n",
       " 52,\n",
       " 56,\n",
       " 60,\n",
       " 64,\n",
       " 68,\n",
       " 72,\n",
       " 76,\n",
       " 80,\n",
       " 84,\n",
       " 88,\n",
       " 92,\n",
       " 96,\n",
       " 100,\n",
       " 104,\n",
       " 108,\n",
       " 112,\n",
       " 116,\n",
       " 120,\n",
       " 124,\n",
       " 128,\n",
       " 132,\n",
       " 136,\n",
       " 140,\n",
       " 144,\n",
       " 148,\n",
       " 152,\n",
       " 156,\n",
       " 160,\n",
       " 164,\n",
       " 168,\n",
       " 172,\n",
       " 176,\n",
       " 180,\n",
       " 184,\n",
       " 188,\n",
       " 192,\n",
       " 196]"
      ]
     },
     "execution_count": 5,
     "metadata": {},
     "output_type": "execute_result"
    }
   ],
   "source": [
    "#In-Built functions for creating iterables\n",
    "list(range(0, 200, 4))"
   ]
  },
  {
   "cell_type": "code",
   "execution_count": 11,
   "id": "b7bf7c53",
   "metadata": {},
   "outputs": [
    {
     "name": "stdout",
     "output_type": "stream",
     "text": [
      "[2, 4, 11, 15, 17, 21, 27, 55, 60, 87]\n"
     ]
    }
   ],
   "source": [
    "from heapq import heappop, heappush \n",
    "\n",
    "#In the code below, we have imported the heapq module which consist heappop() and heappush() method. \n",
    "#We created the Heapsort Heapsort () method, which takes list1 as an argument.\n",
    "#A for loop iterated the list1 and pushed the elements to the empty heap. \n",
    "#We used the while loop and sorted element added to the empty sort.\n",
    "#We called the Heapsort Heapsort () function and passed a list. \n",
    "#It returned the sorted list.\n",
    "\n",
    "#heappush(list, item) -It is used to add the heap element and re-sort it.\n",
    "#heappop(list) - It is used to remove the element and return the element.\n",
    "#heapfy() - It is used to turn the given list into a heap.\n",
    "   \n",
    "def heapsort(list1):  \n",
    "    heap = []  \n",
    "    for ele in list1:  \n",
    "        heappush(heap, ele)  \n",
    "        \n",
    "        sort = []  \n",
    "   \n",
    "    # the elements are lift in the heap  \n",
    "    while heap:  \n",
    "        sort.append(heappop(heap))  \n",
    "       \n",
    "    return sort  \n",
    "list1 = [27, 21, 55, 15, 60, 4, 11, 17, 2, 87]  \n",
    "print(heapsort(list1))  "
   ]
  },
  {
   "cell_type": "code",
   "execution_count": null,
   "id": "087e8a34",
   "metadata": {},
   "outputs": [],
   "source": []
  },
  {
   "cell_type": "markdown",
   "id": "3790c723",
   "metadata": {},
   "source": [
    "## Reference:\n",
    "\n",
    "****"
   ]
  },
  {
   "cell_type": "markdown",
   "id": "5acfbcff",
   "metadata": {},
   "source": [
    "https://www.geeksforgeeks.org/heap-sort/\n",
    "https://www.studytonight.com/data-structures/heap-sort\n",
    "https://www.javatpoint.com/heap-sort-in-python"
   ]
  }
 ],
 "metadata": {
  "kernelspec": {
   "display_name": "Python 3 (ipykernel)",
   "language": "python",
   "name": "python3"
  },
  "language_info": {
   "codemirror_mode": {
    "name": "ipython",
    "version": 3
   },
   "file_extension": ".py",
   "mimetype": "text/x-python",
   "name": "python",
   "nbconvert_exporter": "python",
   "pygments_lexer": "ipython3",
   "version": "3.9.7"
  }
 },
 "nbformat": 4,
 "nbformat_minor": 5
}
