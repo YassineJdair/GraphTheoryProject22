{
 "cells": [
  {
   "cell_type": "markdown",
   "id": "4ddee530",
   "metadata": {},
   "source": [
    "# Graph Isomorphism\n",
    "***"
   ]
  },
  {
   "cell_type": "markdown",
   "id": "b741c069",
   "metadata": {},
   "source": [
    "<h2>Explanation of the Graph Iomorphism Problem:</h2>\n",
    "\n",
    "A graph can exist in different forms having the same number of vertices, edges, and also the same edge connectivity. Such graphs are called isomorphic graphs.\n",
    "\n",
    "Graph Isomorphism is the computational problem of determining whether two finite graphs are isomorphic. A graph has two parts the first part is a set which is any group of things, the second part is a relation which is represented by edges these are connections between vertices.\n",
    "\n",
    "E.g a graph can be used to represent me and my friends on facebook, we would be the vertices and our friendships would be the edges.\n",
    "\n",
    "When two vertices are connected by an edge that would be call adjacent.\n",
    "\n",
    "Isomorphism means the same shape, which in context of graphs means a bijection that preserve adjacency.\n",
    "\n",
    "A bjection is a mapping from one to the other, and from the other back to the one.\n",
    "\n",
    "Words can be isomorphic:\n",
    "\n",
    "Poppy and Daddy are isomorphic because a mapping can be done between the two that preserves the ordering of characters in the words. that is a bijection\n",
    "\n",
    "Title and Poppy are not isomorphic.\n",
    "\n",
    "<h2>Explanation of how graphs can be represented in data structures.</h2>\n",
    "\n",
    "A graph can be represented using 3 data structures- adjacency matrix, adjacency list and adjacency set. \n",
    "\n",
    "An adjacency matrix can be thought of as a table with rows and columns. The row labels and column labels represent the nodes of a graph\n",
    "\n",
    "An adjacency matrix is a square matrix where the number of rows, columns and nodes are the same. Each cell of the matrix represents an edge or the relationship between two given nodes. For example, adjacency matrix Aij represents the number of links from i to j, given two nodes i and j. \n",
    "\n"
   ]
  },
  {
   "cell_type": "code",
   "execution_count": null,
   "id": "bd776a27",
   "metadata": {},
   "outputs": [],
   "source": []
  }
 ],
 "metadata": {
  "kernelspec": {
   "display_name": "Python 3 (ipykernel)",
   "language": "python",
   "name": "python3"
  },
  "language_info": {
   "codemirror_mode": {
    "name": "ipython",
    "version": 3
   },
   "file_extension": ".py",
   "mimetype": "text/x-python",
   "name": "python",
   "nbconvert_exporter": "python",
   "pygments_lexer": "ipython3",
   "version": "3.9.7"
  }
 },
 "nbformat": 4,
 "nbformat_minor": 5
}
